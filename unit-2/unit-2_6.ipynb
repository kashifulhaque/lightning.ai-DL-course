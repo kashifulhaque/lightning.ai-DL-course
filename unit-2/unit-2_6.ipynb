{
 "cells": [
  {
   "cell_type": "markdown",
   "id": "da923dc9-cb07-43a8-bd06-45d4b44f9c59",
   "metadata": {},
   "source": [
    "## **Implementing a Perceptron using Tensors**"
   ]
  },
  {
   "cell_type": "markdown",
   "id": "b25d202a-7801-4ed4-b285-6f9731a4b202",
   "metadata": {},
   "source": [
    "### **Installing Libraries and importing them**"
   ]
  },
  {
   "cell_type": "code",
   "execution_count": 1,
   "id": "653e47d0-c25d-4390-a7b7-14612cec7fbb",
   "metadata": {},
   "outputs": [],
   "source": [
    "# !conda install -c pytorch pytorch --yes"
   ]
  },
  {
   "cell_type": "code",
   "execution_count": 2,
   "id": "f15c7564-a269-43f6-8ef5-5a3230f1349a",
   "metadata": {},
   "outputs": [],
   "source": [
    "# !conda install -c conda-forge numpy pandas matplotlib --yes"
   ]
  },
  {
   "cell_type": "code",
   "execution_count": 3,
   "id": "11d0894b-9846-4115-b3b6-c84616fcda3b",
   "metadata": {},
   "outputs": [],
   "source": [
    "import torch\n",
    "import numpy as np\n",
    "import pandas as pd\n",
    "import matplotlib.pyplot as plt"
   ]
  },
  {
   "cell_type": "markdown",
   "id": "489207d5-b1ba-47d7-82a5-fccb7067483e",
   "metadata": {},
   "source": [
    "### **Loading the dataset**"
   ]
  },
  {
   "cell_type": "code",
   "execution_count": 4,
   "id": "fc0343e1-9de8-41a7-b15b-edae3860e5a6",
   "metadata": {},
   "outputs": [
    {
     "data": {
      "text/html": [
       "<div>\n",
       "<style scoped>\n",
       "    .dataframe tbody tr th:only-of-type {\n",
       "        vertical-align: middle;\n",
       "    }\n",
       "\n",
       "    .dataframe tbody tr th {\n",
       "        vertical-align: top;\n",
       "    }\n",
       "\n",
       "    .dataframe thead th {\n",
       "        text-align: right;\n",
       "    }\n",
       "</style>\n",
       "<table border=\"1\" class=\"dataframe\">\n",
       "  <thead>\n",
       "    <tr style=\"text-align: right;\">\n",
       "      <th></th>\n",
       "      <th>x1</th>\n",
       "      <th>x2</th>\n",
       "      <th>label</th>\n",
       "    </tr>\n",
       "  </thead>\n",
       "  <tbody>\n",
       "    <tr>\n",
       "      <th>0</th>\n",
       "      <td>0.77</td>\n",
       "      <td>-1.14</td>\n",
       "      <td>0</td>\n",
       "    </tr>\n",
       "    <tr>\n",
       "      <th>1</th>\n",
       "      <td>-0.33</td>\n",
       "      <td>1.44</td>\n",
       "      <td>0</td>\n",
       "    </tr>\n",
       "    <tr>\n",
       "      <th>2</th>\n",
       "      <td>0.91</td>\n",
       "      <td>-3.07</td>\n",
       "      <td>0</td>\n",
       "    </tr>\n",
       "    <tr>\n",
       "      <th>3</th>\n",
       "      <td>-0.37</td>\n",
       "      <td>-1.91</td>\n",
       "      <td>0</td>\n",
       "    </tr>\n",
       "    <tr>\n",
       "      <th>4</th>\n",
       "      <td>-0.63</td>\n",
       "      <td>-1.53</td>\n",
       "      <td>0</td>\n",
       "    </tr>\n",
       "  </tbody>\n",
       "</table>\n",
       "</div>"
      ],
      "text/plain": [
       "     x1    x2  label\n",
       "0  0.77 -1.14      0\n",
       "1 -0.33  1.44      0\n",
       "2  0.91 -3.07      0\n",
       "3 -0.37 -1.91      0\n",
       "4 -0.63 -1.53      0"
      ]
     },
     "execution_count": 4,
     "metadata": {},
     "output_type": "execute_result"
    }
   ],
   "source": [
    "df = pd.read_csv(\"perceptron_toydata-truncated.txt\", sep = \"\\t\")\n",
    "df.head(5)"
   ]
  },
  {
   "cell_type": "code",
   "execution_count": 9,
   "id": "dbbf489d-a3f1-4eb4-8a10-eb6afad7fb27",
   "metadata": {},
   "outputs": [],
   "source": [
    "X_train = df[[\"x1\", \"x2\"]].values\n",
    "y_train = df[\"label\"].values"
   ]
  },
  {
   "cell_type": "code",
   "execution_count": 10,
   "id": "2f0bc342-50a7-4de9-8c07-af5ac44741db",
   "metadata": {},
   "outputs": [],
   "source": [
    "X_train = torch.from_numpy(X_train)\n",
    "y_train = torch.from_numpy(y_train)"
   ]
  },
  {
   "cell_type": "code",
   "execution_count": 11,
   "id": "a4f19076-5340-4d3d-b258-259994897d57",
   "metadata": {},
   "outputs": [
    {
     "data": {
      "text/plain": [
       "tensor([[ 0.7700, -1.1400],\n",
       "        [-0.3300,  1.4400],\n",
       "        [ 0.9100, -3.0700],\n",
       "        [-0.3700, -1.9100],\n",
       "        [-0.6300, -1.5300]], dtype=torch.float64)"
      ]
     },
     "execution_count": 11,
     "metadata": {},
     "output_type": "execute_result"
    }
   ],
   "source": [
    "X_train[:5]"
   ]
  },
  {
   "cell_type": "code",
   "execution_count": 12,
   "id": "ea910259-7243-472e-9f00-1ab08fe04dd2",
   "metadata": {},
   "outputs": [],
   "source": [
    "# float32 are computationally less expensive as they are smaller and they fit the GPU memory if we have larger datasets\n",
    "X_train = X_train.to(torch.float32)"
   ]
  },
  {
   "cell_type": "markdown",
   "id": "1e62dde1-41e1-4469-8161-69c9b1b24138",
   "metadata": {},
   "source": [
    "### **Visualizing the dataset**"
   ]
  },
  {
   "cell_type": "code",
   "execution_count": 13,
   "id": "7c5a7f22-43bc-4f47-8dbd-f274699eabf0",
   "metadata": {},
   "outputs": [],
   "source": [
    "%matplotlib inline"
   ]
  },
  {
   "cell_type": "code",
   "execution_count": 14,
   "id": "5bc06ab3-c77a-4884-8016-9788c7cd9d4c",
   "metadata": {},
   "outputs": [
    {
     "data": {
      "image/png": "[encoded data removed]",
      "text/plain": [
       "<Figure size 640x480 with 1 Axes>"
      ]
     },
     "metadata": {},
     "output_type": "display_data"
    }
   ],
   "source": [
    "plt.plot(\n",
    "    X_train[y_train == 0, 0],\n",
    "    X_train[y_train == 0, 1],\n",
    "    marker=\"D\",\n",
    "    markersize=10,\n",
    "    linestyle=\"\",\n",
    "    label=\"Class 0\",\n",
    ")\n",
    "\n",
    "plt.plot(\n",
    "    X_train[y_train == 1, 0],\n",
    "    X_train[y_train == 1, 1],\n",
    "    marker=\"^\",\n",
    "    markersize=13,\n",
    "    linestyle=\"\",\n",
    "    label=\"Class 1\",\n",
    ")\n",
    "\n",
    "plt.legend(loc=2)\n",
    "\n",
    "plt.xlim([-5, 5])\n",
    "plt.ylim([-5, 5])\n",
    "\n",
    "plt.xlabel(\"Feature $x_1$\", fontsize=12)\n",
    "plt.ylabel(\"Feature $x_2$\", fontsize=12)\n",
    "\n",
    "plt.grid()\n",
    "plt.show()\n"
   ]
  },
  {
   "cell_type": "markdown",
   "id": "42350bbd-376e-40c5-bdfb-03d343c953bf",
   "metadata": {},
   "source": [
    "### **Implementing the perceptron**"
   ]
  },
  {
   "cell_type": "code",
   "execution_count": 16,
   "id": "a298c96c-8f0e-403e-8d36-ce3be337abfd",
   "metadata": {},
   "outputs": [],
   "source": [
    "class OldPerceptron:\n",
    "    def __init__(self, num_features):\n",
    "        self.num_features = num_features\n",
    "        self.weights = [0.0 for _ in range(num_features)]\n",
    "        self.bias = 0.0\n",
    "\n",
    "    def forward(self, x):\n",
    "        weighted_sum_z = self.bias\n",
    "        for i, _ in enumerate(self.weights):\n",
    "            weighted_sum_z += x[i] * self.weights[i]\n",
    "\n",
    "        if weighted_sum_z > 0.0:\n",
    "            prediction = 1\n",
    "        else:\n",
    "            prediction = 0\n",
    "\n",
    "        return prediction\n",
    "\n",
    "    def update(self, x, true_y):\n",
    "        prediction = self.forward(x)\n",
    "        error = true_y - prediction\n",
    "\n",
    "        # update\n",
    "        self.bias += error\n",
    "        for i, _ in enumerate(self.weights):\n",
    "            self.weights[i] += error * x[i]\n",
    "\n",
    "        return error"
   ]
  },
  {
   "cell_type": "code",
   "execution_count": 17,
   "id": "3fad4eb0-24df-412d-b3e8-fee647cf6e4a",
   "metadata": {},
   "outputs": [],
   "source": [
    "class Perceptron:\n",
    "    def __init__(self, num_features):\n",
    "        self.num_features = num_features\n",
    "        self.weights = torch.zeros(num_features)\n",
    "        self.bias = torch.tensor(0.0)\n",
    "\n",
    "    def forward(self, x):\n",
    "        weighted_sum_z = torch.dot(x, self.weights) + self.bias\n",
    "\n",
    "        if weighted_sum_z > 0.0:\n",
    "            prediction = torch.tensor(1.)\n",
    "        else:\n",
    "            prediction = torch.tensor(0.)\n",
    "\n",
    "        return prediction\n",
    "\n",
    "    def update(self, x, true_y):\n",
    "        prediction = self.forward(x)\n",
    "        error = true_y - prediction\n",
    "\n",
    "        # update\n",
    "        self.bias += error\n",
    "        self.weights += error * x\n",
    "\n",
    "        return error"
   ]
  },
  {
   "cell_type": "markdown",
   "id": "02822e7e-6585-412a-971d-89174d4649fd",
   "metadata": {},
   "source": [
    "### **Evaluating the results**"
   ]
  },
  {
   "cell_type": "code",
   "execution_count": 18,
   "id": "99755989-0971-4f74-93bf-f8064324642a",
   "metadata": {},
   "outputs": [],
   "source": [
    "ppn = Perceptron(num_features = 2)"
   ]
  },
  {
   "cell_type": "code",
   "execution_count": 19,
   "id": "bec5db9f-5bdb-4f0e-b338-ba86942dbf48",
   "metadata": {},
   "outputs": [
    {
     "name": "stdout",
     "output_type": "stream",
     "text": [
      "Weights: tensor([0., 0.])\n",
      "Bias: 0.0\n"
     ]
    }
   ],
   "source": [
    "print(f\"Weights: {ppn.weights}\")\n",
    "print(f\"Bias: {ppn.bias}\")"
   ]
  },
  {
   "cell_type": "code",
   "execution_count": 20,
   "id": "639bcbfc-5509-45df-af1a-3a897a3caa83",
   "metadata": {},
   "outputs": [],
   "source": [
    "x = torch.tensor([1.1, 2.1])"
   ]
  },
  {
   "cell_type": "code",
   "execution_count": 21,
   "id": "dde05130-a930-4232-95da-d2e80b7ca3c5",
   "metadata": {},
   "outputs": [
    {
     "data": {
      "text/plain": [
       "tensor(0.)"
      ]
     },
     "execution_count": 21,
     "metadata": {},
     "output_type": "execute_result"
    }
   ],
   "source": [
    "ppn.forward(x)"
   ]
  },
  {
   "cell_type": "code",
   "execution_count": 22,
   "id": "e6d28a77-ba4e-4278-be8b-f352db2778cf",
   "metadata": {},
   "outputs": [
    {
     "data": {
      "text/plain": [
       "tensor(1.)"
      ]
     },
     "execution_count": 22,
     "metadata": {},
     "output_type": "execute_result"
    }
   ],
   "source": [
    "ppn.update(x, true_y = 1)"
   ]
  },
  {
   "cell_type": "code",
   "execution_count": 23,
   "id": "fd73c514-026e-47e8-af51-198a4ecb5b7a",
   "metadata": {},
   "outputs": [
    {
     "name": "stdout",
     "output_type": "stream",
     "text": [
      "Weights: tensor([1.1000, 2.1000])\n",
      "Bias: 1.0\n"
     ]
    }
   ],
   "source": [
    "print(f\"Weights: {ppn.weights}\")\n",
    "print(f\"Bias: {ppn.bias}\")"
   ]
  },
  {
   "cell_type": "code",
   "execution_count": 24,
   "id": "57dffae3-3aa8-470b-9f4b-a9786d79fc1f",
   "metadata": {},
   "outputs": [],
   "source": [
    "def train(model, all_x, all_y, epochs):\n",
    "    for epoch in range(epochs):\n",
    "        error_count = 0\n",
    "\n",
    "        for x, y in zip(all_x, all_y):\n",
    "            error = model.update(x, y)\n",
    "            error_count += abs(error)\n",
    "\n",
    "        print(f\"Epoch: {epoch + 1}\\tErrors: {error_count}\")"
   ]
  },
  {
   "cell_type": "code",
   "execution_count": 25,
   "id": "1e75919e-1eff-4828-aa6e-09fce010aa3e",
   "metadata": {},
   "outputs": [
    {
     "name": "stdout",
     "output_type": "stream",
     "text": [
      "Epoch: 1\tErrors: 1.0\n",
      "Epoch: 2\tErrors: 3.0\n",
      "Epoch: 3\tErrors: 1.0\n",
      "Epoch: 4\tErrors: 0.0\n",
      "Epoch: 5\tErrors: 0.0\n"
     ]
    }
   ],
   "source": [
    "ppn = Perceptron(num_features = 2)\n",
    "train(\n",
    "    model = ppn,\n",
    "    all_x = X_train,\n",
    "    all_y = y_train,\n",
    "    epochs = 5\n",
    ")"
   ]
  },
  {
   "cell_type": "code",
   "execution_count": 26,
   "id": "95f4bbe6-cede-40d5-a6ae-3ca238121172",
   "metadata": {},
   "outputs": [],
   "source": [
    "def compute_accuracy(model, all_x, all_y):\n",
    "    correct = 0.0\n",
    "\n",
    "    for x, y in zip(all_x, all_y):\n",
    "        prediction = model.forward(x)\n",
    "        correct += int(prediction == y)\n",
    "\n",
    "    return correct / len(all_y)"
   ]
  },
  {
   "cell_type": "code",
   "execution_count": 27,
   "id": "ee5621c6-366f-476b-85c3-bbab46d4d4d4",
   "metadata": {},
   "outputs": [
    {
     "data": {
      "text/plain": [
       "1.0"
      ]
     },
     "execution_count": 27,
     "metadata": {},
     "output_type": "execute_result"
    }
   ],
   "source": [
    "train_acc = compute_accuracy(ppn, X_train, y_train)\n",
    "train_acc"
   ]
  },
  {
   "cell_type": "code",
   "execution_count": 28,
   "id": "12ae48ec-3025-43ab-8724-4280e2e50881",
   "metadata": {},
   "outputs": [
    {
     "name": "stdout",
     "output_type": "stream",
     "text": [
      "Accuracy: 100.0%\n"
     ]
    }
   ],
   "source": [
    "print(f\"Accuracy: {train_acc * 100}%\")"
   ]
  }
 ],
 "metadata": {
  "kernelspec": {
   "display_name": "Python 3",
   "language": "python",
   "name": "python3"
  },
  "language_info": {
   "codemirror_mode": {
    "name": "ipython",
    "version": 3
   },
   "file_extension": ".py",
   "mimetype": "text/x-python",
   "name": "python",
   "nbconvert_exporter": "python",
   "pygments_lexer": "ipython3",
   "version": "3.9.16"
  }
 },
 "nbformat": 4,
 "nbformat_minor": 5
}
